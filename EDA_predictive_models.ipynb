{
 "cells": [
  {
   "cell_type": "markdown",
   "metadata": {},
   "source": [
    "# DATASETS"
   ]
  },
  {
   "cell_type": "code",
   "execution_count": null,
   "metadata": {
    "id": "ldGjLEZHs2UG"
   },
   "outputs": [],
   "source": [
    "import pandas as pd\n",
    "\n",
    "#shared_drive_path = '/content/drive/Shared drives/analitica_visual_project/datasets/'\n",
    "shared_drive_path = 'datasets/'\n",
    "\n",
    "df_players = pd.read_csv(shared_drive_path + 'euroleague_players.csv')\n",
    "df_box_score = pd.read_csv(shared_drive_path + 'euroleague_box_score.csv')\n",
    "df_teams = pd.read_csv(shared_drive_path + 'euroleague_teams.csv')\n",
    "df_points = pd.read_csv(shared_drive_path + 'euroleague_points.csv')\n",
    "df_header = pd.read_csv(shared_drive_path + 'euroleague_header.csv')\n",
    "\n",
    "df_box_score_eurocup = pd.read_csv(shared_drive_path + 'eurocup_box_score.csv')"
   ]
  },
  {
   "cell_type": "code",
   "execution_count": null,
   "metadata": {
    "colab": {
     "base_uri": "https://localhost:8080/"
    },
    "id": "5A-QRLzCvtfZ",
    "outputId": "050da78c-3eaa-4a99-acf9-a6995bc4d3ff"
   },
   "outputs": [],
   "source": [
    "df_team_stats_each_game = df_box_score[df_box_score['dorsal'] == 'TOTAL']\n",
    "\n",
    "# Add the points_received column\n",
    "df_team_stats_each_game['points_received'] = df_team_stats_each_game.groupby('game_id')['points'].shift(-1)\n",
    "\n",
    "# To ensure the last row in each game_id group gets its corresponding points\n",
    "df_team_stats_each_game['points_received'] = df_team_stats_each_game['points_received'].fillna(df_team_stats_each_game.groupby('game_id')['points'].shift(1))\n",
    "\n",
    "# Adding column WIN\n",
    "df_team_stats_each_game['win'] = (df_team_stats_each_game['points'] > df_team_stats_each_game['points_received']).astype(int)\n",
    "\n",
    "\n",
    "# Add 'points_received_per_game' to df_teams\n",
    "# Filter only team stats from df_team_stats_each_game\n",
    "team_stats = df_team_stats_each_game[['team_id', 'season_code', 'points_received']]\n",
    "\n",
    "# Group by team and season to calculate the mean points received\n",
    "points_received_avg = team_stats.groupby(['team_id', 'season_code'])['points_received'].mean().reset_index()\n",
    "points_received_avg.rename(columns={'points_received': 'points_received_per_game'}, inplace=True)\n",
    "\n",
    "# Merge with df_teams\n",
    "df_teams = pd.merge(df_teams, points_received_avg, on=['team_id', 'season_code'], how='left')\n",
    "\n",
    "# Step 1.1: Drop unnecessary columns\n",
    "columns_to_drop = ['game_player_id', 'player_id', 'is_starter', 'is_playing', 'dorsal', 'player', 'minutes']\n",
    "df_team_stats_each_game = df_team_stats_each_game.drop(columns=columns_to_drop)\n",
    "\n",
    "# Step 1.3: Combine rows into single rows representing matchups\n",
    "# Split rows into two groups (team A and team B stats)\n",
    "team_a_stats = df_team_stats_each_game[df_team_stats_each_game['game_id'].duplicated(keep='first')]\n",
    "team_b_stats = df_team_stats_each_game[df_team_stats_each_game['game_id'].duplicated(keep='last')]\n",
    "\n",
    "# Merge team A and team B stats into a single row per game\n",
    "merged_df_team_stats_each_game = pd.merge(team_a_stats, team_b_stats, on='game_id', suffixes=('_a', '_b'))\n",
    "\n",
    "# Optional: Remove duplicate columns and reorder if necessary\n",
    "merged_df_team_stats_each_game = merged_df_team_stats_each_game.drop(columns=['game_b', 'round_b', 'phase_b'])\n",
    "merged_df_team_stats_each_game.rename(columns={'season_code_a': 'season_code'}, inplace=True)\n",
    "merged_df_team_stats_each_game.rename(columns={'game_a': 'game'}, inplace=True)\n",
    "merged_df_team_stats_each_game.rename(columns={'round_a': 'round'}, inplace=True)\n",
    "merged_df_team_stats_each_game.rename(columns={'phase_a': 'phase'}, inplace=True)"
   ]
  },
  {
   "cell_type": "code",
   "execution_count": null,
   "metadata": {
    "colab": {
     "base_uri": "https://localhost:8080/",
     "height": 617
    },
    "id": "ONn3k4KFD4bH",
    "outputId": "809a4a59-6826-4463-c9ae-7cd61556b2d4"
   },
   "outputs": [],
   "source": [
    "merged_df_team_stats_each_game"
   ]
  },
  {
   "cell_type": "code",
   "execution_count": null,
   "metadata": {},
   "outputs": [],
   "source": [
    "df_team_stats_each_game_eurocup = df_box_score_eurocup[df_box_score_eurocup['dorsal'] == 'TOTAL']\n",
    "\n",
    "# Add the points_received column\n",
    "df_team_stats_each_game_eurocup['points_received'] = df_team_stats_each_game_eurocup.groupby('game_id')['points'].shift(-1)\n",
    "\n",
    "# To ensure the last row in each game_id group gets its corresponding points\n",
    "df_team_stats_each_game_eurocup['points_received'] = df_team_stats_each_game_eurocup['points_received'].fillna(df_team_stats_each_game_eurocup.groupby('game_id')['points'].shift(1))\n",
    "\n",
    "# Adding column WIN\n",
    "df_team_stats_each_game_eurocup['win'] = (df_team_stats_each_game_eurocup['points'] > df_team_stats_each_game_eurocup['points_received']).astype(int)\n",
    "\n",
    "# Step 1.1: Drop unnecessary columns\n",
    "columns_to_drop = ['game_player_id', 'player_id', 'is_starter', 'is_playing', 'dorsal', 'player', 'minutes']\n",
    "df_team_stats_each_game_eurocup = df_team_stats_each_game_eurocup.drop(columns=columns_to_drop)\n",
    "\n",
    "# Step 1.3: Combine rows into single rows representing matchups\n",
    "# Split rows into two groups (team A and team B stats)\n",
    "team_a_stats_eurocup = df_team_stats_each_game_eurocup[df_team_stats_each_game_eurocup['game_id'].duplicated(keep='first')]\n",
    "team_b_stats_eurocup = df_team_stats_each_game_eurocup[df_team_stats_each_game_eurocup['game_id'].duplicated(keep='last')]\n",
    "\n",
    "# Merge team A and team B stats into a single row per game\n",
    "merged_df_team_stats_each_game_eurocup = pd.merge(team_a_stats_eurocup, team_b_stats_eurocup, on='game_id', suffixes=('_a', '_b'))\n",
    "\n",
    "# Optional: Remove duplicate columns and reorder if necessary\n",
    "merged_df_team_stats_each_game_eurocup = merged_df_team_stats_each_game_eurocup.drop(columns=['game_b', 'round_b', 'phase_b'])\n",
    "merged_df_team_stats_each_game_eurocup.rename(columns={'season_code_a': 'season_code'}, inplace=True)\n",
    "merged_df_team_stats_each_game_eurocup.rename(columns={'game_a': 'game'}, inplace=True)\n",
    "merged_df_team_stats_each_game_eurocup.rename(columns={'round_a': 'round'}, inplace=True)\n",
    "merged_df_team_stats_each_game_eurocup.rename(columns={'phase_a': 'phase'}, inplace=True)"
   ]
  },
  {
   "cell_type": "code",
   "execution_count": null,
   "metadata": {},
   "outputs": [],
   "source": [
    "# Concatenating the DataFrames\n",
    "merged_df_team_stats_each_game_all_games = pd.concat([merged_df_team_stats_each_game_eurocup, merged_df_team_stats_each_game], axis=0,  ignore_index=True)\n",
    "\n",
    "# Check the result\n",
    "merged_df_team_stats_each_game_all_games\n"
   ]
  },
  {
   "cell_type": "code",
   "execution_count": null,
   "metadata": {
    "colab": {
     "base_uri": "https://localhost:8080/",
     "height": 443
    },
    "id": "Y72pXJChLnAX",
    "outputId": "11919d7e-d22b-4a25-eb9f-78e3d276341b"
   },
   "outputs": [],
   "source": [
    "df_teams"
   ]
  },
  {
   "cell_type": "code",
   "execution_count": null,
   "metadata": {
    "colab": {
     "base_uri": "https://localhost:8080/",
     "height": 359
    },
    "id": "7yIPBxBIKPg-",
    "outputId": "2ad0ec65-1795-45f1-d2fc-a9789fb33803"
   },
   "outputs": [],
   "source": [
    "team_mappings = {\n",
    "    'OLYMPIACOS': ['OLYMPIACOS PIRAEUS B.C.', 'OLYMPIACOS PIRAEUS', 'OLYMPIACOS PIRAEUS BC', 'OLYMPIACOS'],\n",
    "    'BARCELONA': ['AXA FC BARCELONA', 'REGAL FC BARCELONA', 'REGAL FC BARCELONA ', 'FC BARCELONA REGAL',\n",
    "                  'FC BARCELONA', 'FC BARCELONA LASSA'],\n",
    "    'REAL MADRID': ['REAL MADRID'],\n",
    "    'CSKA MOSCOW': ['CSKA MOSCOW'],\n",
    "    'ZALGIRIS': ['ZALGIRIS', 'ZALGIRIS KAUNAS'],\n",
    "    'PANATHINAIKOS': ['PANATHINAIKOS', 'PANATHINAIKOS BSA ATHENS', 'PANATHINAIKOS ATHENS',\n",
    "                      'PANATHINAIKOS SUPERFOODS ATHENS', 'PANATHINAIKOS OPAP ATHENS', 'PANATHINAIKOS AKTOR ATHENS'],\n",
    "    'PARTIZAN': ['PARTIZAN BC', 'PARTIZAN', 'PARTIZAN IGOKEA', 'PARTIZAN MT:S', 'PARTIZAN MT:S BELGRADE',\n",
    "                 'PARTIZAN NIS BELGRADE', 'PARTIZAN MOZZART BET BELGRADE'],\n",
    "    'MILAN': ['MILANO', 'ARMANI JEANS MILANO', 'EA7 EMPORIO ARMANI MILANO', 'AX ARMANI EXCHANGE OLIMPIA MILAN',\n",
    "              'AX ARMANI EXCHANGE MILAN'],\n",
    "    'FENERBAHCE': ['FENERBAHCE ULKER', 'FENERBAHCE ULKER ISTANBUL', 'FENERBAHCE ISTANBUL',\n",
    "                   'FENERBAHCE BEKO ISTANBUL', 'FB DOGUS'],\n",
    "    'MACCABI TEL AVIV': ['MACCABI TEL AVIV', 'MACCABI ELITE TEL AVIV', 'MACCABI ELECTRA TEL AVIV',\n",
    "                         'MACCABI FOX TEL AVIV', 'MACCABI PLAYTIKA TEL AVIV'],\n",
    "    'EFES': ['EFES PILSEN ISTANBUL', 'ANADOLU EFES ISTANBUL'],\n",
    "    'BASKONIA': ['CAJA LABORAL BASKONIA', 'CAJA LABORAL', 'LABORAL KUTXA VITORIA',\n",
    "                 'LABORAL KUTXA VITORIA GASTEIZ', 'KIROLBET BASKONIA VITORIA GASTEIZ',\n",
    "                 'KIROLBET BASKONIA VITORIA-GASTEIZ', 'TD SYSTEMS BASKONIA VITORIA-GASTEIZ',\n",
    "                 'BITCI BASKONIA VITORIA-GASTEIZ', 'BASKONIA VITORIA-GASTEIZ',\n",
    "                 'CAZOO BASKONIA VITORIA-GASTEIZ'],\n",
    "    'VALENCIA': ['POWER ELECTRONICS VALENCIA', 'VALENCIA BASKET'],\n",
    "    'UNICAJA': ['UNICAJA', 'UNICAJA MALAGA'],\n",
    "    'ALBA BERLIN': ['ALBA BERLIN'],\n",
    "    'BAYERN MUNICH': ['FC BAYERN MUNICH'],\n",
    "    'BROSE BAMBERG': ['BROSE BASKETS', 'BASKETS BAMBERG', 'BROSE BASKETS BAMBERG', 'BROSE BAMBERG'],\n",
    "    'GALATASARAY': ['GALATASARAY MEDICAL PARK', 'GALATASARAY LIV HOSPITAL ISTANBUL', 'GALATASARAY ODEABANK ISTANBUL'],\n",
    "    'CRVENA ZVEZDA': ['CRVENA ZVEZDA TELEKOM BELGRADE', 'CRVENA ZVEZDA MTS BELGRADE',\n",
    "                      'CRVENA ZVEZDA MERIDIANBET BELGRADE'],\n",
    "    'BILBAO': ['BILBAO BASKET', 'BIZKAIA BILBAO BASKET', 'GESCRAP BB'],\n",
    "    'VIRTUS BOLOGNA': ['VIRTUS VIDIVICI BOLOGNA', 'VIRTUS SEGAFREDO BOLOGNA'],\n",
    "    'DARUSSAFAKA': ['DARUSSAFAKA DOGUS ISTANBUL', 'DARUSSAFAKA TEKFEN ISTANBUL'],\n",
    "    'BUDUCNOST': ['BUDUCNOST VOLI PODGORICA'],\n",
    "    'MONACO': ['AS MONACO'],\n",
    "    'KHIMKI': ['BC KHIMKI', 'KHIMKI MOSCOW REGION', 'BC KHIMKI MOSCOW REGION'],\n",
    "    'LIETUVOS RYTAS': ['LIETUVOS RYTAS', 'LIETUVOS RYTAS VILNIUS'],\n",
    "    'CIBONA': ['KK CIBONA', 'CIBONA'],\n",
    "    'UNION OLIMPIJA': ['UNION OLIMPIJA', 'UNION OLIMPIJA LJUBLJANA'],\n",
    "    'PROKOM': ['PROKOM TREFL SOPOT', 'ASSECO PROKOM SOPOT', 'ASSECO PROKOM GDYNIA', 'ASSECO PROKOM'],\n",
    "    'VIRTUS ROMA': ['LOTTOMATICA ROMA', 'VIRTUS ROMA'],\n",
    "    'ASVEL': ['ASVEL LYON', 'LDLC ASVEL VILLEURBANNE'],\n",
    "    'NANTERRE': ['JSF NANTERRE'],\n",
    "    'STRASBOURG': ['STRASBOURG'],\n",
    "    'LIMOGES': ['LIMOGES CSP'],\n",
    "    'CHOLET': ['CHOLET BASKET'],\n",
    "    'CHALON': ['ELAN CHALON-SUR-SAONE'],\n",
    "    'PARIS BASKETBALL': ['PARIS BASKETBALL']\n",
    "}\n",
    "\n",
    "\n",
    "# Create a reverse lookup dictionary from team_mappings\n",
    "name_to_normalized = {}\n",
    "for normalized_name, variations in team_mappings.items():\n",
    "    for variation in variations:\n",
    "        name_to_normalized[variation.upper()] = normalized_name\n",
    "\n",
    "# Function to normalize team names\n",
    "def normalize_team_name(team_name):\n",
    "    return name_to_normalized.get(team_name.upper(), team_name)  # Return input if no match\n",
    "\n",
    "# Apply normalization to 'team_a' and 'team_b' columns\n",
    "df_header['team_a_'] = df_header['team_a'].apply(normalize_team_name)\n",
    "df_header['team_b_'] = df_header['team_b'].apply(normalize_team_name)\n",
    "\n",
    "# Display the updated DataFrame (optional)\n",
    "df_header.head()\n"
   ]
  },
  {
   "cell_type": "code",
   "execution_count": null,
   "metadata": {
    "colab": {
     "base_uri": "https://localhost:8080/",
     "height": 273
    },
    "id": "L-vahtQbMJl5",
    "outputId": "a56e497e-3156-4223-cd9d-4ff898fd0470"
   },
   "outputs": [],
   "source": [
    "# Assume df_teams is your DataFrame and team_mappings has already been defined.\n",
    "\n",
    "# Create a mapping of team_id to normalized team names\n",
    "# In this case, manually map 'team_id' keys to their normalized names.\n",
    "team_id_to_name = {\n",
    "    'OLY': 'OLYMPIACOS',\n",
    "    'BAR': 'BARCELONA',\n",
    "    'MAD': 'REAL MADRID',\n",
    "    'CSK': 'CSKA MOSCOW',\n",
    "    'ZAL': 'ZALGIRIS',\n",
    "    'PAN': 'PANATHINAIKOS',\n",
    "    'PAR': 'PARTIZAN',\n",
    "    'MIL': 'MILAN',\n",
    "    'IST': 'FENERBAHCE',\n",
    "    'TEL': 'MACCABI TEL AVIV',\n",
    "    'EFES': 'EFES',\n",
    "    'BAS': 'BASKONIA',\n",
    "    'VAL': 'VALENCIA',\n",
    "    'MAL': 'UNICAJA',\n",
    "    'BER': 'ALBA BERLIN',\n",
    "    'MUN': 'BAYERN MUNICH',\n",
    "    'BAM': 'BROSE BAMBERG',\n",
    "    'GAL': 'GALATASARAY',\n",
    "    'RED': 'CRVENA ZVEZDA',\n",
    "    'BIL': 'BILBAO',\n",
    "    'VIR': 'VIRTUS BOLOGNA',\n",
    "    'DAR': 'DARUSSAFAKA',\n",
    "    'BUD': 'BUDUCNOST',\n",
    "    'MCO': 'MONACO',\n",
    "    'KHI': 'KHIMKI',\n",
    "    'LIE': 'LIETUVOS RYTAS',\n",
    "    'CIB': 'CIBONA',\n",
    "    'LJU': 'UNION OLIMPIJA',\n",
    "    'SOP': 'PROKOM',\n",
    "    'ROM': 'VIRTUS ROMA',\n",
    "    'ASV': 'ASVEL',\n",
    "    'NTR': 'NANTERRE',\n",
    "    'STR': 'STRASBOURG',\n",
    "    'LMG': 'LIMOGES',\n",
    "    'CHO': 'CHOLET',\n",
    "    'CHA': 'CHALON',\n",
    "    'PRS': 'PARIS BASKETBALL'\n",
    "}\n",
    "\n",
    "# Function to map team_id to team_name\n",
    "def map_team_id_to_name(team_id):\n",
    "    return team_id_to_name.get(team_id, team_id)  # Return the team_id if no match is found\n",
    "\n",
    "# Apply the mapping to create the new 'team_name' column\n",
    "df_teams['team_name'] = df_teams['team_id'].apply(map_team_id_to_name)\n",
    "\n",
    "# Display the updated DataFrame (optional)\n",
    "df_teams.head()\n"
   ]
  },
  {
   "cell_type": "code",
   "execution_count": null,
   "metadata": {
    "colab": {
     "base_uri": "https://localhost:8080/"
    },
    "id": "OEuXhcGKuEVa",
    "outputId": "e4853123-4bd7-48f9-b51a-6dd85ef1e66f"
   },
   "outputs": [],
   "source": [
    "df_players.columns"
   ]
  },
  {
   "cell_type": "code",
   "execution_count": null,
   "metadata": {
    "colab": {
     "base_uri": "https://localhost:8080/"
    },
    "id": "50xccUV5uiGh",
    "outputId": "308f74da-9d05-41e8-9391-3dee6f9184ec"
   },
   "outputs": [],
   "source": [
    "df_box_score.columns"
   ]
  },
  {
   "cell_type": "code",
   "execution_count": null,
   "metadata": {
    "colab": {
     "base_uri": "https://localhost:8080/"
    },
    "id": "yr-eUFmZuj-N",
    "outputId": "045996dd-7fff-49cd-d6f7-f9bd72c9cf1f"
   },
   "outputs": [],
   "source": [
    "df_teams.columns"
   ]
  },
  {
   "cell_type": "code",
   "execution_count": null,
   "metadata": {
    "colab": {
     "base_uri": "https://localhost:8080/"
    },
    "id": "DjKvvGWvulQ8",
    "outputId": "fe6e4f09-72cf-4008-b3c0-15c343419f70"
   },
   "outputs": [],
   "source": [
    "df_points.columns"
   ]
  },
  {
   "cell_type": "code",
   "execution_count": null,
   "metadata": {
    "colab": {
     "base_uri": "https://localhost:8080/"
    },
    "id": "gAemZHoXum34",
    "outputId": "58d65c02-e534-40dd-cb00-7163b45a0d9a"
   },
   "outputs": [],
   "source": [
    "df_header.columns"
   ]
  },
  {
   "cell_type": "code",
   "execution_count": null,
   "metadata": {
    "colab": {
     "base_uri": "https://localhost:8080/"
    },
    "id": "EtupQ8Dp4nRe",
    "outputId": "d3405bed-789f-46c1-f35b-f5167a6c5e18"
   },
   "outputs": [],
   "source": [
    "df_team_stats_each_game.columns"
   ]
  },
  {
   "cell_type": "code",
   "execution_count": null,
   "metadata": {
    "colab": {
     "base_uri": "https://localhost:8080/"
    },
    "id": "ooQSaQ6dEmxk",
    "outputId": "b6f2deba-7411-495e-d0ad-c8543ffd2d28"
   },
   "outputs": [],
   "source": [
    "merged_df_team_stats_each_game.columns"
   ]
  },
  {
   "cell_type": "markdown",
   "metadata": {
    "id": "2nkf9GrcTtQe"
   },
   "source": [
    "# PRIMEROS PLOTS / LINE CHARTS"
   ]
  },
  {
   "cell_type": "code",
   "execution_count": null,
   "metadata": {
    "colab": {
     "base_uri": "https://localhost:8080/",
     "height": 607
    },
    "id": "MWd6oswPTzWK",
    "outputId": "2e4638d2-ec5a-432a-a363-c1339a62818b"
   },
   "outputs": [],
   "source": [
    "import pandas as pd\n",
    "import matplotlib.pyplot as plt\n",
    "\n",
    "# Filter the data for three-pointers made\n",
    "df_three_pointers = df_points[df_points['action_id'] == '3FGM']\n",
    "\n",
    "# Group by game_id to get the total three-pointers per game\n",
    "three_pointers_per_game = df_three_pointers.groupby(['game_id', 'season_code'])['action_id'].count().reset_index()\n",
    "three_pointers_per_game.rename(columns={'action_id': 'three_pointers_per_game'}, inplace=True)\n",
    "\n",
    "# Group by season_code and calculate the average three-pointers per game\n",
    "average_three_pointers_by_season = (\n",
    "    three_pointers_per_game.groupby('season_code')['three_pointers_per_game']\n",
    "    .mean()\n",
    "    .reset_index()\n",
    ")\n",
    "average_three_pointers_by_season.rename(columns={'three_pointers_per_game': 'average_three_pointers'}, inplace=True)\n",
    "\n",
    "# Sort by season_code (optional, if not already sorted)\n",
    "average_three_pointers_by_season = average_three_pointers_by_season.sort_values('season_code')\n",
    "\n",
    "# Plot the line chart\n",
    "plt.figure(figsize=(10, 6))\n",
    "plt.plot(average_three_pointers_by_season['season_code'],\n",
    "         average_three_pointers_by_season['average_three_pointers'],\n",
    "         marker='o', color='green')\n",
    "plt.title('Average Three-Pointers Scored Per Game Per Season', fontsize=16)\n",
    "plt.xlabel('Season', fontsize=14)\n",
    "plt.ylabel('Average Three-Pointers Scored Per Game', fontsize=14)\n",
    "plt.xticks(rotation=45)\n",
    "plt.grid(alpha=0.3)\n",
    "plt.tight_layout()\n",
    "plt.show()\n"
   ]
  },
  {
   "cell_type": "code",
   "execution_count": null,
   "metadata": {
    "colab": {
     "base_uri": "https://localhost:8080/",
     "height": 607
    },
    "id": "SY1MZ__sWOZq",
    "outputId": "769e4611-97a7-464e-a607-e7b806d50533"
   },
   "outputs": [],
   "source": [
    "import pandas as pd\n",
    "import matplotlib.pyplot as plt\n",
    "\n",
    "# Filter the data for three-pointers made\n",
    "df_three_pointers = df_points[(df_points['action_id'] == '3FGA') | (df_points['action_id'] == '3FGM')]\n",
    "\n",
    "# Group by game_id to get the total three-pointers per game\n",
    "three_pointers_per_game = df_three_pointers.groupby(['game_id', 'season_code'])['action_id'].count().reset_index()\n",
    "three_pointers_per_game.rename(columns={'action_id': 'three_pointers_per_game'}, inplace=True)\n",
    "\n",
    "# Group by season_code and calculate the average three-pointers per game\n",
    "average_three_pointers_by_season = (\n",
    "    three_pointers_per_game.groupby('season_code')['three_pointers_per_game']\n",
    "    .mean()\n",
    "    .reset_index()\n",
    ")\n",
    "average_three_pointers_by_season.rename(columns={'three_pointers_per_game': 'average_three_pointers'}, inplace=True)\n",
    "\n",
    "# Sort by season_code (optional, if not already sorted)\n",
    "average_three_pointers_by_season = average_three_pointers_by_season.sort_values('season_code')\n",
    "\n",
    "# Plot the line chart\n",
    "plt.figure(figsize=(10, 6))\n",
    "plt.plot(average_three_pointers_by_season['season_code'],\n",
    "         average_three_pointers_by_season['average_three_pointers'],\n",
    "         marker='o', color='green')\n",
    "plt.title('Average Three-Pointers Attempted Per Game Per Season', fontsize=16)\n",
    "plt.xlabel('Season', fontsize=14)\n",
    "plt.ylabel('Average Three-Pointers Attempted Per Game', fontsize=14)\n",
    "plt.xticks(rotation=45)\n",
    "plt.grid(alpha=0.3)\n",
    "plt.tight_layout()\n",
    "plt.show()\n"
   ]
  },
  {
   "cell_type": "code",
   "execution_count": null,
   "metadata": {
    "colab": {
     "base_uri": "https://localhost:8080/",
     "height": 607
    },
    "id": "VM4NZXqRdewC",
    "outputId": "9ac036ea-7c4c-4943-e87c-525f906f4a5b"
   },
   "outputs": [],
   "source": [
    "import pandas as pd\n",
    "import matplotlib.pyplot as plt\n",
    "\n",
    "# Filter the data for three-pointers made\n",
    "df_three_pointers = df_points[(df_points['action_id'] == '3FGA') | (df_points['action_id'] == '2FGA') | (df_points['action_id'] == '3FGM') | (df_points['action_id'] == '2FGM')]\n",
    "\n",
    "# Group by game_id to get the total three-pointers per game\n",
    "three_pointers_per_game = df_three_pointers.groupby(['game_id', 'season_code'])['action_id'].count().reset_index()\n",
    "three_pointers_per_game.rename(columns={'action_id': 'three_pointers_per_game'}, inplace=True)\n",
    "\n",
    "# Group by season_code and calculate the average three-pointers per game\n",
    "average_three_pointers_by_season = (\n",
    "    three_pointers_per_game.groupby('season_code')['three_pointers_per_game']\n",
    "    .mean()\n",
    "    .reset_index()\n",
    ")\n",
    "average_three_pointers_by_season.rename(columns={'three_pointers_per_game': 'average_three_pointers'}, inplace=True)\n",
    "\n",
    "# Sort by season_code (optional, if not already sorted)\n",
    "average_three_pointers_by_season = average_three_pointers_by_season.sort_values('season_code')\n",
    "\n",
    "# Plot the line chart\n",
    "plt.figure(figsize=(10, 6))\n",
    "plt.plot(average_three_pointers_by_season['season_code'],\n",
    "         average_three_pointers_by_season['average_three_pointers'],\n",
    "         marker='o', color='green')\n",
    "plt.title('Average Shots Attempted Per Game Per Season', fontsize=16)\n",
    "plt.xlabel('Season', fontsize=14)\n",
    "plt.ylabel('Average Shots Attempted Per Game', fontsize=14)\n",
    "plt.xticks(rotation=45)\n",
    "plt.grid(alpha=0.3)\n",
    "plt.tight_layout()\n",
    "plt.show()\n"
   ]
  },
  {
   "cell_type": "code",
   "execution_count": null,
   "metadata": {
    "colab": {
     "base_uri": "https://localhost:8080/",
     "height": 607
    },
    "id": "QqSFwIf1dGJn",
    "outputId": "d02a883b-30f7-4dc5-c54f-516f4d3223da"
   },
   "outputs": [],
   "source": [
    "import matplotlib.pyplot as plt\n",
    "\n",
    "first_game = df_header.iloc[0]\n",
    "\n",
    "# Extract the first game's cumulative scores per quarter for both teams\n",
    "quarters = ['score_quarter_1', 'score_quarter_2', 'score_quarter_3', 'score_quarter_4']\n",
    "\n",
    "# Cumulative scores for Team A and Team B\n",
    "cumulative_team_a = [first_game[f\"{q}_a\"] for q in quarters]\n",
    "cumulative_team_b = [first_game[f\"{q}_b\"] for q in quarters]\n",
    "\n",
    "# Compute points scored per quarter\n",
    "points_team_a = [cumulative_team_a[0]] + [cumulative_team_a[i] - cumulative_team_a[i-1] for i in range(1, len(cumulative_team_a))]\n",
    "points_team_b = [cumulative_team_b[0]] + [cumulative_team_b[i] - cumulative_team_b[i-1] for i in range(1, len(cumulative_team_b))]\n",
    "\n",
    "# Define quarter labels\n",
    "labels = ['Q1', 'Q2', 'Q3', 'Q4']\n",
    "\n",
    "# Create a figure with 2 subplots\n",
    "plt.figure(figsize=(14, 6))\n",
    "\n",
    "# Subplot 1: Points scored per quarter\n",
    "plt.subplot(1, 2, 1)\n",
    "x = range(len(labels))\n",
    "width = 0.4\n",
    "plt.bar([p - width/2 for p in x], points_team_a, width=width, label='Team A', color='red')\n",
    "plt.bar([p + width/2 for p in x], points_team_b, width=width, label='Team B', color='blue')\n",
    "plt.xticks(x, labels)\n",
    "plt.title('Points Scored Per Quarter', fontsize=16)\n",
    "plt.xlabel('Quarter', fontsize=14)\n",
    "plt.ylabel('Points', fontsize=14)\n",
    "plt.legend()\n",
    "plt.grid(axis='y', alpha=0.3)\n",
    "\n",
    "# Subplot 2: Cumulative scores per quarter\n",
    "plt.subplot(1, 2, 2)\n",
    "plt.bar([p - width/2 for p in x], cumulative_team_a, width=width, label='Team A', color='red')\n",
    "plt.bar([p + width/2 for p in x], cumulative_team_b, width=width, label='Team B', color='blue')\n",
    "plt.xticks(x, labels)\n",
    "plt.title('Cumulative Scores Per Quarter', fontsize=16)\n",
    "plt.xlabel('Quarter', fontsize=14)\n",
    "plt.ylabel('Cumulative Points', fontsize=14)\n",
    "plt.legend()\n",
    "plt.grid(axis='y', alpha=0.3)\n",
    "\n",
    "# Adjust layout and display the plots\n",
    "plt.tight_layout()\n",
    "plt.show()\n"
   ]
  },
  {
   "cell_type": "code",
   "execution_count": null,
   "metadata": {
    "colab": {
     "base_uri": "https://localhost:8080/",
     "height": 1000
    },
    "id": "OPPImW71kxXP",
    "outputId": "2fa1f6e8-642f-412d-be0b-4dd9213c4882"
   },
   "outputs": [],
   "source": [
    "import pandas as pd\n",
    "import matplotlib.pyplot as plt\n",
    "\n",
    "# Calculate total metrics by summing up across all seasons\n",
    "df_players_total = df_players.groupby('player')[[\n",
    "    'points', 'three_points_made', 'total_rebounds', 'assists', 'steals', 'blocks_favour'\n",
    "]].sum()\n",
    "\n",
    "# Calculate average metrics by averaging per game across all seasons\n",
    "df_players_avg = df_players.groupby('player')[[\n",
    "    'points_per_game', 'three_points_made_per_game', 'total_rebounds_per_game',\n",
    "    'assists_per_game', 'steals_per_game', 'blocks_favour_per_game'\n",
    "]].mean()\n",
    "\n",
    "# Top 10 players by total points scored\n",
    "top_10_points = df_players_total['points'].nlargest(10)\n",
    "\n",
    "# Top 10 players by average points per game\n",
    "top_10_avg_points = df_players_avg['points_per_game'].nlargest(10)\n",
    "\n",
    "# Top 10 players by total three pointers scored\n",
    "top_10_three_pointers = df_players_total['three_points_made'].nlargest(10)\n",
    "\n",
    "# Top 10 players by average three pointers per game\n",
    "top_10_avg_three_pointers = df_players_avg['three_points_made_per_game'].nlargest(10)\n",
    "\n",
    "# Top 10 players by total rebounds\n",
    "top_10_rebounds = df_players_total['total_rebounds'].nlargest(10)\n",
    "\n",
    "# Top 10 players by average rebounds per game\n",
    "top_10_avg_rebounds = df_players_avg['total_rebounds_per_game'].nlargest(10)\n",
    "\n",
    "# Top 10 players by total assists\n",
    "top_10_assists = df_players_total['assists'].nlargest(10)\n",
    "\n",
    "# Top 10 players by average assists per game\n",
    "top_10_avg_assists = df_players_avg['assists_per_game'].nlargest(10)\n",
    "\n",
    "# Top 10 players by total steals\n",
    "top_10_steals = df_players_total['steals'].nlargest(10)\n",
    "\n",
    "# Top 10 players by average steals per game\n",
    "top_10_avg_steals = df_players_avg['steals_per_game'].nlargest(10)\n",
    "\n",
    "# Top 10 players by total blocks\n",
    "top_10_blocks = df_players_total['blocks_favour'].nlargest(10)\n",
    "\n",
    "# Top 10 players by average blocks per game\n",
    "top_10_avg_blocks = df_players_avg['blocks_favour_per_game'].nlargest(10)\n",
    "\n",
    "# Plot all bar charts\n",
    "fig, axes = plt.subplots(3, 2, figsize=(14, 18))\n",
    "\n",
    "# Bar chart for Total Points\n",
    "axes[0, 0].bar(top_10_points.index, top_10_points.values, color='blue')\n",
    "axes[0, 0].set_title('Top 10 Players by Total Points')\n",
    "axes[0, 0].set_xlabel('Player')\n",
    "axes[0, 0].set_ylabel('Total Points')\n",
    "axes[0, 0].tick_params(axis='x', rotation=45)\n",
    "\n",
    "# Bar chart for Average Points Per Game\n",
    "axes[0, 1].bar(top_10_avg_points.index, top_10_avg_points.values, color='green')\n",
    "axes[0, 1].set_title('Top 10 Players by Average Points Per Game')\n",
    "axes[0, 1].set_xlabel('Player')\n",
    "axes[0, 1].set_ylabel('Average Points per Game')\n",
    "axes[0, 1].tick_params(axis='x', rotation=45)\n",
    "\n",
    "# Bar chart for Total Three Pointers\n",
    "axes[1, 0].bar(top_10_three_pointers.index, top_10_three_pointers.values, color='red')\n",
    "axes[1, 0].set_title('Top 10 Players by Total Three Pointers')\n",
    "axes[1, 0].set_xlabel('Player')\n",
    "axes[1, 0].set_ylabel('Total Three Pointers')\n",
    "axes[1, 0].tick_params(axis='x', rotation=45)\n",
    "\n",
    "# Bar chart for Average Three Pointers Per Game\n",
    "axes[1, 1].bar(top_10_avg_three_pointers.index, top_10_avg_three_pointers.values, color='orange')\n",
    "axes[1, 1].set_title('Top 10 Players by Average Three Pointers Per Game')\n",
    "axes[1, 1].set_xlabel('Player')\n",
    "axes[1, 1].set_ylabel('Average Three Pointers per Game')\n",
    "axes[1, 1].tick_params(axis='x', rotation=45)\n",
    "\n",
    "# Bar chart for Total Rebounds\n",
    "axes[2, 0].bar(top_10_rebounds.index, top_10_rebounds.values, color='purple')\n",
    "axes[2, 0].set_title('Top 10 Players by Total Rebounds')\n",
    "axes[2, 0].set_xlabel('Player')\n",
    "axes[2, 0].set_ylabel('Total Rebounds')\n",
    "axes[2, 0].tick_params(axis='x', rotation=45)\n",
    "\n",
    "# Bar chart for Average Rebounds Per Game\n",
    "axes[2, 1].bar(top_10_avg_rebounds.index, top_10_avg_rebounds.values, color='yellow')\n",
    "axes[2, 1].set_title('Top 10 Players by Average Rebounds Per Game')\n",
    "axes[2, 1].set_xlabel('Player')\n",
    "axes[2, 1].set_ylabel('Average Rebounds per Game')\n",
    "axes[2, 1].tick_params(axis='x', rotation=45)\n",
    "\n",
    "# Adjust layout for better readability\n",
    "plt.tight_layout()\n",
    "plt.show()\n",
    "\n",
    "# Plot for Steals and Blocks\n",
    "fig, axes = plt.subplots(2, 2, figsize=(14, 12))\n",
    "\n",
    "# Bar chart for Total Steals\n",
    "axes[0, 0].bar(top_10_steals.index, top_10_steals.values, color='cyan')\n",
    "axes[0, 0].set_title('Top 10 Players by Total Steals')\n",
    "axes[0, 0].set_xlabel('Player')\n",
    "axes[0, 0].set_ylabel('Total Steals')\n",
    "axes[0, 0].tick_params(axis='x', rotation=45)\n",
    "\n",
    "# Bar chart for Average Steals Per Game\n",
    "axes[0, 1].bar(top_10_avg_steals.index, top_10_avg_steals.values, color='pink')\n",
    "axes[0, 1].set_title('Top 10 Players by Average Steals Per Game')\n",
    "axes[0, 1].set_xlabel('Player')\n",
    "axes[0, 1].set_ylabel('Average Steals per Game')\n",
    "axes[0, 1].tick_params(axis='x', rotation=45)\n",
    "\n",
    "# Bar chart for Total Blocks\n",
    "axes[1, 0].bar(top_10_blocks.index, top_10_blocks.values, color='magenta')\n",
    "axes[1, 0].set_title('Top 10 Players by Total Blocks')\n",
    "axes[1, 0].set_xlabel('Player')\n",
    "axes[1, 0].set_ylabel('Total Blocks')\n",
    "axes[1, 0].tick_params(axis='x', rotation=45)\n",
    "\n",
    "# Bar chart for Average Blocks Per Game\n",
    "axes[1, 1].bar(top_10_avg_blocks.index, top_10_avg_blocks.values, color='brown')\n",
    "axes[1, 1].set_title('Top 10 Players by Average Blocks Per Game')\n",
    "axes[1, 1].set_xlabel('Player')\n",
    "axes[1, 1].set_ylabel('Average Blocks per Game')\n",
    "axes[1, 1].tick_params(axis='x', rotation=45)\n",
    "\n",
    "# Adjust layout for better readability\n",
    "plt.tight_layout()\n",
    "plt.show()\n"
   ]
  },
  {
   "cell_type": "code",
   "execution_count": null,
   "metadata": {
    "colab": {
     "base_uri": "https://localhost:8080/",
     "height": 1000
    },
    "id": "jC69n7JYn7IK",
    "outputId": "4ebaf7c2-a198-4060-8289-fa5a43123acd"
   },
   "outputs": [],
   "source": [
    "import pandas as pd\n",
    "import matplotlib.pyplot as plt\n",
    "\n",
    "# Calculate total metrics by summing up across all seasons for teams\n",
    "df_teams_total = df_teams.groupby('team_id')[[\n",
    "    'points', 'three_points_made', 'total_rebounds', 'assists', 'steals', 'blocks_favour'\n",
    "]].sum()\n",
    "\n",
    "# Calculate average metrics by averaging per game across all seasons for teams\n",
    "df_teams_avg = df_teams.groupby('team_id')[[\n",
    "    'points_per_game', 'three_points_made_per_game', 'total_rebounds_per_game',\n",
    "    'assists_per_game', 'steals_per_game', 'blocks_favour_per_game'\n",
    "]].mean()\n",
    "\n",
    "# Top 10 teams by total points scored\n",
    "top_10_teams_points = df_teams_total['points'].nlargest(10)\n",
    "\n",
    "# Top 10 teams by average points per game\n",
    "top_10_teams_avg_points = df_teams_avg['points_per_game'].nlargest(10)\n",
    "\n",
    "# Top 10 teams by total three pointers scored\n",
    "top_10_teams_three_pointers = df_teams_total['three_points_made'].nlargest(10)\n",
    "\n",
    "# Top 10 teams by average three pointers per game\n",
    "top_10_teams_avg_three_pointers = df_teams_avg['three_points_made_per_game'].nlargest(10)\n",
    "\n",
    "# Top 10 teams by total rebounds\n",
    "top_10_teams_rebounds = df_teams_total['total_rebounds'].nlargest(10)\n",
    "\n",
    "# Top 10 teams by average rebounds per game\n",
    "top_10_teams_avg_rebounds = df_teams_avg['total_rebounds_per_game'].nlargest(10)\n",
    "\n",
    "# Top 10 teams by total assists\n",
    "top_10_teams_assists = df_teams_total['assists'].nlargest(10)\n",
    "\n",
    "# Top 10 teams by average assists per game\n",
    "top_10_teams_avg_assists = df_teams_avg['assists_per_game'].nlargest(10)\n",
    "\n",
    "# Top 10 teams by total steals\n",
    "top_10_teams_steals = df_teams_total['steals'].nlargest(10)\n",
    "\n",
    "# Top 10 teams by average steals per game\n",
    "top_10_teams_avg_steals = df_teams_avg['steals_per_game'].nlargest(10)\n",
    "\n",
    "# Top 10 teams by total blocks\n",
    "top_10_teams_blocks = df_teams_total['blocks_favour'].nlargest(10)\n",
    "\n",
    "# Top 10 teams by average blocks per game\n",
    "top_10_teams_avg_blocks = df_teams_avg['blocks_favour_per_game'].nlargest(10)\n",
    "\n",
    "# Plot all bar charts\n",
    "fig, axes = plt.subplots(3, 2, figsize=(14, 18))\n",
    "\n",
    "# Bar chart for Total Points\n",
    "axes[0, 0].bar(top_10_teams_points.index, top_10_teams_points.values, color='blue')\n",
    "axes[0, 0].set_title('Top 10 Teams by Total Points')\n",
    "axes[0, 0].set_xlabel('Team')\n",
    "axes[0, 0].set_ylabel('Total Points')\n",
    "axes[0, 0].tick_params(axis='x', rotation=45)\n",
    "\n",
    "# Bar chart for Average Points Per Game\n",
    "axes[0, 1].bar(top_10_teams_avg_points.index, top_10_teams_avg_points.values, color='green')\n",
    "axes[0, 1].set_title('Top 10 Teams by Average Points Per Game')\n",
    "axes[0, 1].set_xlabel('Team')\n",
    "axes[0, 1].set_ylabel('Average Points per Game')\n",
    "axes[0, 1].tick_params(axis='x', rotation=45)\n",
    "\n",
    "# Bar chart for Total Three Pointers\n",
    "axes[1, 0].bar(top_10_teams_three_pointers.index, top_10_teams_three_pointers.values, color='red')\n",
    "axes[1, 0].set_title('Top 10 Teams by Total Three Pointers')\n",
    "axes[1, 0].set_xlabel('Team')\n",
    "axes[1, 0].set_ylabel('Total Three Pointers')\n",
    "axes[1, 0].tick_params(axis='x', rotation=45)\n",
    "\n",
    "# Bar chart for Average Three Pointers Per Game\n",
    "axes[1, 1].bar(top_10_teams_avg_three_pointers.index, top_10_teams_avg_three_pointers.values, color='orange')\n",
    "axes[1, 1].set_title('Top 10 Teams by Average Three Pointers Per Game')\n",
    "axes[1, 1].set_xlabel('Team')\n",
    "axes[1, 1].set_ylabel('Average Three Pointers per Game')\n",
    "axes[1, 1].tick_params(axis='x', rotation=45)\n",
    "\n",
    "# Bar chart for Total Rebounds\n",
    "axes[2, 0].bar(top_10_teams_rebounds.index, top_10_teams_rebounds.values, color='purple')\n",
    "axes[2, 0].set_title('Top 10 Teams by Total Rebounds')\n",
    "axes[2, 0].set_xlabel('Team')\n",
    "axes[2, 0].set_ylabel('Total Rebounds')\n",
    "axes[2, 0].tick_params(axis='x', rotation=45)\n",
    "\n",
    "# Bar chart for Average Rebounds Per Game\n",
    "axes[2, 1].bar(top_10_teams_avg_rebounds.index, top_10_teams_avg_rebounds.values, color='yellow')\n",
    "axes[2, 1].set_title('Top 10 Teams by Average Rebounds Per Game')\n",
    "axes[2, 1].set_xlabel('Team')\n",
    "axes[2, 1].set_ylabel('Average Rebounds per Game')\n",
    "axes[2, 1].tick_params(axis='x', rotation=45)\n",
    "\n",
    "# Adjust layout for better readability\n",
    "plt.tight_layout()\n",
    "plt.show()\n",
    "\n",
    "# Plot for Steals and Blocks\n",
    "fig, axes = plt.subplots(2, 2, figsize=(14, 12))\n",
    "\n",
    "# Bar chart for Total Steals\n",
    "axes[0, 0].bar(top_10_teams_steals.index, top_10_teams_steals.values, color='cyan')\n",
    "axes[0, 0].set_title('Top 10 Teams by Total Steals')\n",
    "axes[0, 0].set_xlabel('Team')\n",
    "axes[0, 0].set_ylabel('Total Steals')\n",
    "axes[0, 0].tick_params(axis='x', rotation=45)\n",
    "\n",
    "# Bar chart for Average Steals Per Game\n",
    "axes[0, 1].bar(top_10_teams_avg_steals.index, top_10_teams_avg_steals.values, color='pink')\n",
    "axes[0, 1].set_title('Top 10 Teams by Average Steals Per Game')\n",
    "axes[0, 1].set_xlabel('Team')\n",
    "axes[0, 1].set_ylabel('Average Steals per Game')\n",
    "axes[0, 1].tick_params(axis='x', rotation=45)\n",
    "\n",
    "# Bar chart for Total Blocks\n",
    "axes[1, 0].bar(top_10_teams_blocks.index, top_10_teams_blocks.values, color='magenta')\n",
    "axes[1, 0].set_title('Top 10 Teams by Total Blocks')\n",
    "axes[1, 0].set_xlabel('Team')\n",
    "axes[1, 0].set_ylabel('Total Blocks')\n",
    "axes[1, 0].tick_params(axis='x', rotation=45)\n",
    "\n",
    "# Bar chart for Average Blocks Per Game\n",
    "axes[1, 1].bar(top_10_teams_avg_blocks.index, top_10_teams_avg_blocks.values, color='brown')\n",
    "axes[1, 1].set_title('Top 10 Teams by Average Blocks Per Game')\n",
    "axes[1, 1].set_xlabel('Team')\n",
    "axes[1, 1].set_ylabel('Average Blocks per Game')\n",
    "axes[1, 1].tick_params(axis='x', rotation=45)\n",
    "\n",
    "# Adjust layout for better readability\n",
    "plt.tight_layout()\n",
    "plt.show()\n"
   ]
  },
  {
   "cell_type": "code",
   "execution_count": null,
   "metadata": {
    "colab": {
     "base_uri": "https://localhost:8080/",
     "height": 1000
    },
    "id": "XZHKQLFjouqU",
    "outputId": "c5be7863-2422-4396-8981-5714c5605507"
   },
   "outputs": [],
   "source": [
    "import pandas as pd\n",
    "import matplotlib.pyplot as plt\n",
    "\n",
    "# Filter the dataset for the specific season 'E2023'\n",
    "df_teams_season = df_teams[df_teams['season_code'] == 'E2023']\n",
    "\n",
    "# Calculate total metrics by summing up across all games for teams in 'E2023'\n",
    "df_teams_total_season = df_teams_season.groupby('team_id')[[\n",
    "    'points', 'three_points_made', 'total_rebounds', 'assists', 'steals', 'blocks_favour'\n",
    "]].sum()\n",
    "\n",
    "# Calculate average metrics by averaging per game across all games for teams in 'E2023'\n",
    "df_teams_avg_season = df_teams_season.groupby('team_id')[[\n",
    "    'points_per_game', 'three_points_made_per_game', 'total_rebounds_per_game',\n",
    "    'assists_per_game', 'steals_per_game', 'blocks_favour_per_game'\n",
    "]].mean()\n",
    "\n",
    "# Top 10 teams by total points scored in season 'E2023'\n",
    "top_10_teams_points_season = df_teams_total_season['points'].nlargest(10)\n",
    "\n",
    "# Top 10 teams by average points per game in season 'E2023'\n",
    "top_10_teams_avg_points_season = df_teams_avg_season['points_per_game'].nlargest(10)\n",
    "\n",
    "# Top 10 teams by total three pointers scored in season 'E2023'\n",
    "top_10_teams_three_pointers_season = df_teams_total_season['three_points_made'].nlargest(10)\n",
    "\n",
    "# Top 10 teams by average three pointers per game in season 'E2023'\n",
    "top_10_teams_avg_three_pointers_season = df_teams_avg_season['three_points_made_per_game'].nlargest(10)\n",
    "\n",
    "# Top 10 teams by total rebounds in season 'E2023'\n",
    "top_10_teams_rebounds_season = df_teams_total_season['total_rebounds'].nlargest(10)\n",
    "\n",
    "# Top 10 teams by average rebounds per game in season 'E2023'\n",
    "top_10_teams_avg_rebounds_season = df_teams_avg_season['total_rebounds_per_game'].nlargest(10)\n",
    "\n",
    "# Top 10 teams by total assists in season 'E2023'\n",
    "top_10_teams_assists_season = df_teams_total_season['assists'].nlargest(10)\n",
    "\n",
    "# Top 10 teams by average assists per game in season 'E2023'\n",
    "top_10_teams_avg_assists_season = df_teams_avg_season['assists_per_game'].nlargest(10)\n",
    "\n",
    "# Top 10 teams by total steals in season 'E2023'\n",
    "top_10_teams_steals_season = df_teams_total_season['steals'].nlargest(10)\n",
    "\n",
    "# Top 10 teams by average steals per game in season 'E2023'\n",
    "top_10_teams_avg_steals_season = df_teams_avg_season['steals_per_game'].nlargest(10)\n",
    "\n",
    "# Top 10 teams by total blocks in season 'E2023'\n",
    "top_10_teams_blocks_season = df_teams_total_season['blocks_favour'].nlargest(10)\n",
    "\n",
    "# Top 10 teams by average blocks per game in season 'E2023'\n",
    "top_10_teams_avg_blocks_season = df_teams_avg_season['blocks_favour_per_game'].nlargest(10)\n",
    "\n",
    "# Plot all bar charts for season 'E2023'\n",
    "fig, axes = plt.subplots(3, 2, figsize=(14, 18))\n",
    "\n",
    "# Bar chart for Total Points\n",
    "axes[0, 0].bar(top_10_teams_points_season.index, top_10_teams_points_season.values, color='blue')\n",
    "axes[0, 0].set_title('Top 10 Teams by Total Points (Season E2023)')\n",
    "axes[0, 0].set_xlabel('Team')\n",
    "axes[0, 0].set_ylabel('Total Points')\n",
    "axes[0, 0].tick_params(axis='x', rotation=45)\n",
    "\n",
    "# Bar chart for Average Points Per Game\n",
    "axes[0, 1].bar(top_10_teams_avg_points_season.index, top_10_teams_avg_points_season.values, color='green')\n",
    "axes[0, 1].set_title('Top 10 Teams by Average Points Per Game (Season E2023)')\n",
    "axes[0, 1].set_xlabel('Team')\n",
    "axes[0, 1].set_ylabel('Average Points per Game')\n",
    "axes[0, 1].tick_params(axis='x', rotation=45)\n",
    "\n",
    "# Bar chart for Total Three Pointers\n",
    "axes[1, 0].bar(top_10_teams_three_pointers_season.index, top_10_teams_three_pointers_season.values, color='red')\n",
    "axes[1, 0].set_title('Top 10 Teams by Total Three Pointers (Season E2023)')\n",
    "axes[1, 0].set_xlabel('Team')\n",
    "axes[1, 0].set_ylabel('Total Three Pointers')\n",
    "axes[1, 0].tick_params(axis='x', rotation=45)\n",
    "\n",
    "# Bar chart for Average Three Pointers Per Game\n",
    "axes[1, 1].bar(top_10_teams_avg_three_pointers_season.index, top_10_teams_avg_three_pointers_season.values, color='orange')\n",
    "axes[1, 1].set_title('Top 10 Teams by Average Three Pointers Per Game (Season E2023)')\n",
    "axes[1, 1].set_xlabel('Team')\n",
    "axes[1, 1].set_ylabel('Average Three Pointers per Game')\n",
    "axes[1, 1].tick_params(axis='x', rotation=45)\n",
    "\n",
    "# Bar chart for Total Rebounds\n",
    "axes[2, 0].bar(top_10_teams_rebounds_season.index, top_10_teams_rebounds_season.values, color='purple')\n",
    "axes[2, 0].set_title('Top 10 Teams by Total Rebounds (Season E2023)')\n",
    "axes[2, 0].set_xlabel('Team')\n",
    "axes[2, 0].set_ylabel('Total Rebounds')\n",
    "axes[2, 0].tick_params(axis='x', rotation=45)\n",
    "\n",
    "# Bar chart for Average Rebounds Per Game\n",
    "axes[2, 1].bar(top_10_teams_avg_rebounds_season.index, top_10_teams_avg_rebounds_season.values, color='yellow')\n",
    "axes[2, 1].set_title('Top 10 Teams by Average Rebounds Per Game (Season E2023)')\n",
    "axes[2, 1].set_xlabel('Team')\n",
    "axes[2, 1].set_ylabel('Average Rebounds per Game')\n",
    "axes[2, 1].tick_params(axis='x', rotation=45)\n",
    "\n",
    "# Adjust layout for better readability\n",
    "plt.tight_layout()\n",
    "plt.show()\n",
    "\n",
    "# Plot for Steals and Blocks for season 'E2023'\n",
    "fig, axes = plt.subplots(2, 2, figsize=(14, 12))\n",
    "\n",
    "# Bar chart for Total Steals\n",
    "axes[0, 0].bar(top_10_teams_steals_season.index, top_10_teams_steals_season.values, color='cyan')\n",
    "axes[0, 0].set_title('Top 10 Teams by Total Steals (Season E2023)')\n",
    "axes[0, 0].set_xlabel('Team')\n",
    "axes[0, 0].set_ylabel('Total Steals')\n",
    "axes[0, 0].tick_params(axis='x', rotation=45)\n",
    "\n",
    "# Bar chart for Average Steals Per Game\n",
    "axes[0, 1].bar(top_10_teams_avg_steals_season.index, top_10_teams_avg_steals_season.values, color='pink')\n",
    "axes[0, 1].set_title('Top 10 Teams by Average Steals Per Game (Season E2023)')\n",
    "axes[0, 1].set_xlabel('Team')\n",
    "axes[0, 1].set_ylabel('Average Steals per Game')\n",
    "axes[0, 1].tick_params(axis='x', rotation=45)\n",
    "\n",
    "# Bar chart for Total Blocks\n",
    "axes[1, 0].bar(top_10_teams_blocks_season.index, top_10_teams_blocks_season.values, color='magenta')\n",
    "axes[1, 0].set_title('Top 10 Teams by Total Blocks (Season E2023)')\n",
    "axes[1, 0].set_xlabel('Team')\n",
    "axes[1, 0].set_ylabel('Total Blocks')\n",
    "axes[1, 0].tick_params(axis='x', rotation=45)\n",
    "\n",
    "# Bar chart for Average Blocks Per Game\n",
    "axes[1, 1].bar(top_10_teams_avg_blocks_season.index, top_10_teams_avg_blocks_season.values, color='brown')\n",
    "axes[1, 1].set_title('Top 10 Teams by Average Blocks Per Game (Season E2023)')\n",
    "axes[1, 1].set_xlabel('Team')\n",
    "axes[1, 1].set_ylabel('Average Blocks per Game')\n",
    "axes[1, 1].tick_params(axis='x', rotation=45)\n",
    "\n",
    "# Adjust layout for better readability\n",
    "plt.tight_layout()\n",
    "plt.show()\n"
   ]
  },
  {
   "cell_type": "markdown",
   "metadata": {
    "id": "mhHc4oOnEs0m"
   },
   "source": [
    "# PREDICTING WHO WOULD WIN A GAME"
   ]
  },
  {
   "cell_type": "code",
   "execution_count": null,
   "metadata": {
    "id": "FzCsLaGXFa4Q"
   },
   "outputs": [],
   "source": [
    "import seaborn as sns\n",
    "import matplotlib.pyplot as plt\n",
    "from sklearn.model_selection import train_test_split\n",
    "from sklearn.linear_model import LogisticRegression\n",
    "from sklearn.ensemble import RandomForestClassifier\n",
    "from sklearn.metrics import classification_report, accuracy_score, mean_squared_error\n",
    "from sklearn.multioutput import MultiOutputRegressor"
   ]
  },
  {
   "cell_type": "code",
   "execution_count": null,
   "metadata": {
    "colab": {
     "base_uri": "https://localhost:8080/",
     "height": 1000
    },
    "id": "A7awqqPpFbha",
    "outputId": "5edfa93b-9388-45a0-b766-d8f19ffc19e8"
   },
   "outputs": [],
   "source": [
    "\n",
    "# Step 3.1: Define numeric features\n",
    "numeric_features = [\n",
    "    'two_points_made_a', 'two_points_attempted_a', 'three_points_made_a', 'three_points_attempted_a',\n",
    "    'free_throws_made_a', 'free_throws_attempted_a', 'offensive_rebounds_a', 'defensive_rebounds_a',\n",
    "    'total_rebounds_a', 'assists_a', 'steals_a', 'turnovers_a', 'blocks_favour_a', 'blocks_against_a',\n",
    "    'fouls_committed_a', 'fouls_received_a', 'valuation_a', 'points_received_a',\n",
    "    'two_points_made_b', 'two_points_attempted_b', 'three_points_made_b', 'three_points_attempted_b',\n",
    "    'free_throws_made_b', 'free_throws_attempted_b', 'offensive_rebounds_b', 'defensive_rebounds_b',\n",
    "    'total_rebounds_b', 'assists_b', 'steals_b', 'turnovers_b', 'blocks_favour_b', 'blocks_against_b',\n",
    "    'fouls_committed_b', 'fouls_received_b', 'valuation_b', 'points_received_b'\n",
    "]\n",
    "\n",
    "# Compute correlation matrix\n",
    "#correlation_matrix = merged_df_team_stats_each_game[numeric_features + ['win_a']].corr()\n",
    "correlation_matrix = merged_df_team_stats_each_game_all_games[numeric_features + ['win_a']].corr()\n",
    "correlations_with_target = correlation_matrix['win_a'].drop('win_a').sort_values(ascending=False)\n",
    "\n",
    "# Visualize the top correlations\n",
    "plt.figure(figsize=(12, 8))\n",
    "sns.barplot(x=correlations_with_target.values, y=correlations_with_target.index, palette='viridis')\n",
    "plt.title('Correlation of Features with Target (win_a)')\n",
    "plt.xlabel('Correlation Coefficient')\n",
    "plt.ylabel('Features')\n",
    "plt.axvline(0, color='black', linewidth=0.8, linestyle='--')\n",
    "plt.tight_layout()\n",
    "plt.show()\n",
    "\n",
    "# Display top correlated features\n",
    "print(\"Top Correlated Features with Target (win_a):\")\n",
    "print(correlations_with_target)\n"
   ]
  },
  {
   "cell_type": "code",
   "execution_count": null,
   "metadata": {
    "colab": {
     "base_uri": "https://localhost:8080/"
    },
    "id": "kbatWJjAEvka",
    "outputId": "c7cecc6b-d396-4a94-b185-d74ae2bf7c5c"
   },
   "outputs": [],
   "source": [
    "# Step 3.2: Define features and target for modeling\n",
    "features = [\n",
    "    'defensive_rebounds_a', 'offensive_rebounds_a', 'assists_a', 'three_points_made_a', 'turnovers_a', 'blocks_favour_a', 'steals_a',\n",
    "    'defensive_rebounds_b', 'offensive_rebounds_b', 'assists_b', 'three_points_made_b', 'turnovers_b', 'blocks_favour_b', 'steals_b']\n",
    "\n",
    "target = 'win_a'\n",
    "\n",
    "#X = merged_df_team_stats_each_game[features]\n",
    "#y = merged_df_team_stats_each_game[target]\n",
    "\n",
    "\n",
    "X = merged_df_team_stats_each_game_all_games[features]\n",
    "y = merged_df_team_stats_each_game_all_games[target]\n",
    "\n",
    "# Step 3.3: Train-test split\n",
    "X_train_all, X_test_all, y_train_all, y_test_all = train_test_split(X, y, test_size=0.2, random_state=42)\n",
    "\n",
    "\n",
    "print(\"Length of X_train:\", len(X_train_all))\n",
    "print(\"Length of X_test:\", len(X_test_all))\n",
    "print(\"Length of y_train:\", len(y_train_all))\n",
    "print(\"Length of y_test:\", len(y_test_all))"
   ]
  },
  {
   "cell_type": "code",
   "execution_count": null,
   "metadata": {
    "colab": {
     "base_uri": "https://localhost:8080/"
    },
    "id": "W6siPSCOGI5Z",
    "outputId": "868ce26e-c776-4253-c325-e701cdc38257"
   },
   "outputs": [],
   "source": [
    "# Logistic Regression\n",
    "logistic_model = LogisticRegression(random_state=42)\n",
    "logistic_model.fit(X_train_all, y_train_all)\n",
    "logistic_preds = logistic_model.predict(X_test_all)\n",
    "\n",
    "print(\"Logistic Regression Performance:\")\n",
    "print(classification_report(y_test_all, logistic_preds))\n",
    "print(\"Accuracy:\", accuracy_score(y_test_all, logistic_preds))\n",
    "print(\"MSE:\", mean_squared_error(y_test_all, logistic_preds))\n"
   ]
  },
  {
   "cell_type": "code",
   "execution_count": null,
   "metadata": {
    "colab": {
     "base_uri": "https://localhost:8080/"
    },
    "id": "joI3fxhrGKuz",
    "outputId": "003ff020-99d8-46eb-9384-804eee9c11fe"
   },
   "outputs": [],
   "source": [
    "# Random Forest Classifier\n",
    "rf_model = RandomForestClassifier(random_state=42)\n",
    "rf_model.fit(X_train_all, y_train_all)\n",
    "rf_preds = rf_model.predict(X_test_all)\n",
    "\n",
    "print(\"\\nRandom Forest Performance:\")\n",
    "print(classification_report(y_test_all, rf_preds))\n",
    "print(\"Accuracy:\", accuracy_score(y_test_all, rf_preds))\n",
    "print(\"MSE:\", mean_squared_error(y_test_all, rf_preds))\n"
   ]
  },
  {
   "cell_type": "code",
   "execution_count": null,
   "metadata": {
    "colab": {
     "base_uri": "https://localhost:8080/"
    },
    "id": "gKZy1vuoGa0t",
    "outputId": "ff29c582-57e4-48bb-cba2-8f0a9ecd9059"
   },
   "outputs": [],
   "source": [
    "# Example team IDs for the matchup\n",
    "team_a_id = 'BAR'\n",
    "team_b_id = 'ASV'\n",
    "\n",
    "# Fetch stats for both teams for the season E2024\n",
    "team_a_stats = df_teams[(df_teams['team_id'] == team_a_id) & (df_teams['season_code'] == 'E2024')].iloc[0]\n",
    "team_b_stats = df_teams[(df_teams['team_id'] == team_b_id) & (df_teams['season_code'] == 'E2024')].iloc[0]\n",
    "\n",
    "# Define input features for the matchup\n",
    "input_features = {\n",
    "    'defensive_rebounds_a': team_a_stats['defensive_rebounds_per_game'],\n",
    "    'offensive_rebounds_a': team_a_stats['offensive_rebounds_per_game'],\n",
    "    'assists_a': team_a_stats['assists_per_game'],\n",
    "    'three_points_made_a': team_a_stats['three_points_made_per_game'],\n",
    "    'turnovers_a': team_a_stats['turnovers_per_game'],\n",
    "    'blocks_favour_a': team_a_stats['blocks_favour_per_game'],\n",
    "    'steals_a': team_a_stats['steals_per_game'],\n",
    "    'defensive_rebounds_b': team_b_stats['defensive_rebounds_per_game'],\n",
    "    'offensive_rebounds_b': team_b_stats['offensive_rebounds_per_game'],\n",
    "    'assists_b': team_b_stats['assists_per_game'],\n",
    "    'three_points_made_b': team_b_stats['three_points_made_per_game'],\n",
    "    'turnovers_b': team_b_stats['turnovers_per_game'],\n",
    "    'blocks_favour_b': team_b_stats['blocks_favour_per_game'],\n",
    "    'steals_b': team_b_stats['steals_per_game'],\n",
    "}\n",
    "\n",
    "\n",
    "# Convert to DataFrame\n",
    "input_data = pd.DataFrame([input_features])\n",
    "\n",
    "# Predict\n",
    "logistic_prediction = logistic_model.predict(input_data)[0]\n",
    "rf_prediction = rf_model.predict(input_data)[0]\n",
    "\n",
    "print(f\"Logistic Model Prediction: {'Team A Wins' if logistic_prediction == 1 else 'Team B Wins'}\")\n",
    "print(f\"Random Forest Prediction: {'Team A Wins' if rf_prediction == 1 else 'Team B Wins'}\")\n"
   ]
  },
  {
   "cell_type": "markdown",
   "metadata": {
    "id": "wHAfJQXcLJZr"
   },
   "source": [
    "# PREDICTING SCORES"
   ]
  },
  {
   "cell_type": "code",
   "execution_count": null,
   "metadata": {
    "id": "HZd4BrboLK8n"
   },
   "outputs": [],
   "source": [
    "# Define features for both teams\n",
    "features = [\n",
    "    'defensive_rebounds_a', 'offensive_rebounds_a', 'assists_a',\n",
    "    'three_points_made_a', 'turnovers_a', 'blocks_favour_a', 'steals_a',\n",
    "    'defensive_rebounds_b', 'offensive_rebounds_b', 'assists_b',\n",
    "    'three_points_made_b', 'turnovers_b', 'blocks_favour_b', 'steals_b']\n",
    "\n",
    "# Targets\n",
    "targets = ['points_a', 'points_b']\n",
    "\n",
    "# Input features and targets\n",
    "X = merged_df_team_stats_each_game[features]\n",
    "y = merged_df_team_stats_each_game[targets]\n",
    "\n",
    "# Split data into train and test sets\n",
    "from sklearn.model_selection import train_test_split\n",
    "X_train, X_test, y_train, y_test = train_test_split(X, y, test_size=0.2, random_state=42)\n"
   ]
  },
  {
   "cell_type": "code",
   "execution_count": null,
   "metadata": {
    "colab": {
     "base_uri": "https://localhost:8080/"
    },
    "id": "s1RWsrd5LLf4",
    "outputId": "7e8d71aa-fd64-4807-8576-6a59d601c90a"
   },
   "outputs": [],
   "source": [
    "from sklearn.multioutput import MultiOutputRegressor\n",
    "from sklearn.metrics import mean_squared_error\n",
    "\n",
    "from sklearn.linear_model import LinearRegression\n",
    "from sklearn.metrics import mean_squared_error\n",
    "\n",
    "# Linear Regression model\n",
    "linear_regressor = MultiOutputRegressor(LinearRegression())\n",
    "linear_regressor.fit(X_train, y_train)\n",
    "\n",
    "# Predictions\n",
    "y_pred_linear = linear_regressor.predict(X_test)\n",
    "\n",
    "# Evaluate the model\n",
    "mse_linear_points_a = mean_squared_error(y_test['points_a'], y_pred_linear[:, 0])\n",
    "mse_linear_points_b = mean_squared_error(y_test['points_b'], y_pred_linear[:, 1])\n",
    "\n",
    "print(f\"Linear Regression - MSE for points_a: {mse_linear_points_a}\")\n",
    "print(f\"Linear Regression - MSE for points_b: {mse_linear_points_b}\")\n",
    "\n",
    "# Predict points for the example teams\n",
    "predicted_points_linear = linear_regressor.predict(input_data)\n",
    "predicted_points_a_linear = predicted_points_linear[0][0]\n",
    "predicted_points_b_linear = predicted_points_linear[0][1]\n",
    "\n",
    "print(f\"Linear Regression Predicted Points - Team A: {predicted_points_a_linear:.2f}\")\n",
    "print(f\"Linear Regression Predicted Points - Team B: {predicted_points_b_linear:.2f}\")\n",
    "\n",
    "\n",
    "\n",
    "#Linear Regression - MSE for points_a: 52.00382467233077\n",
    "#Linear Regression - MSE for points_b: 50.91385157685053 -> mejor no usar eurocup\n",
    "#Linear Regression Predicted Points - Team A: 79.82\n",
    "#Linear Regression Predicted Points - Team B: 78.80\n"
   ]
  },
  {
   "cell_type": "markdown",
   "metadata": {},
   "source": [
    "# PREDICTING SCORES OTHER MODELS"
   ]
  },
  {
   "cell_type": "code",
   "execution_count": null,
   "metadata": {},
   "outputs": [],
   "source": [
    "from sklearn.ensemble import GradientBoostingRegressor\n",
    "\n",
    "# Gradient Boosting model\n",
    "gb_regressor = MultiOutputRegressor(GradientBoostingRegressor(random_state=42))\n",
    "gb_regressor.fit(X_train, y_train)\n",
    "y_pred_gb = gb_regressor.predict(X_test)\n",
    "\n",
    "# Evaluate\n",
    "mse_gb_points_a = mean_squared_error(y_test['points_a'], y_pred_gb[:, 0])\n",
    "mse_gb_points_b = mean_squared_error(y_test['points_b'], y_pred_gb[:, 1])\n",
    "print(f\"Gradient Boosting - MSE for points_a: {mse_gb_points_a}\")\n",
    "print(f\"Gradient Boosting - MSE for points_b: {mse_gb_points_b}\")\n",
    "\n",
    "\n"
   ]
  },
  {
   "cell_type": "code",
   "execution_count": null,
   "metadata": {},
   "outputs": [],
   "source": [
    "from sklearn.svm import SVR\n",
    "\n",
    "# Support Vector Regressor\n",
    "svr_regressor = MultiOutputRegressor(SVR(kernel='rbf', C=1.0, epsilon=0.1))\n",
    "svr_regressor.fit(X_train, y_train)\n",
    "y_pred_svr = svr_regressor.predict(X_test)\n",
    "\n",
    "# Evaluate\n",
    "mse_svr_points_a = mean_squared_error(y_test['points_a'], y_pred_svr[:, 0])\n",
    "mse_svr_points_b = mean_squared_error(y_test['points_b'], y_pred_svr[:, 1])\n",
    "print(f\"SVR - MSE for points_a: {mse_svr_points_a}\")\n",
    "print(f\"SVR - MSE for points_b: {mse_svr_points_b}\")\n",
    "\n",
    "#SVR - MSE for points_a: 52.63342699131339 -> mejor no usar eurocup\n",
    "#SVR - MSE for points_b: 52.26377120953878\n"
   ]
  },
  {
   "cell_type": "code",
   "execution_count": null,
   "metadata": {},
   "outputs": [],
   "source": [
    "from sklearn.neural_network import MLPRegressor\n",
    "\n",
    "mlp_regressor = MultiOutputRegressor(MLPRegressor(hidden_layer_sizes=(100, 50), max_iter=1000, random_state=42))\n",
    "mlp_regressor.fit(X_train, y_train)\n",
    "y_pred_mlp = mlp_regressor.predict(X_test)\n",
    "\n",
    "# Evaluate\\n\",\n",
    "mse_mlp_points_a = mean_squared_error(y_test['points_a'], y_pred_mlp[:, 0])\n",
    "mse_mlp_points_b = mean_squared_error(y_test['points_b'], y_pred_mlp[:, 1])\n",
    "print(f\"MLP - MSE for points_a: {mse_mlp_points_a}\")\n",
    "print(f\"MLP - MSE for points_b: {mse_mlp_points_b}\")\n",
    "\n",
    "\n",
    "#MLP - MSE for points_a: 54.561366774148205\\n\",\n",
    "#MLP - MSE for points_b: 52.910915759019524 -> mejor no usar eurocup\\n\""
   ]
  },
  {
   "cell_type": "markdown",
   "metadata": {},
   "source": [
    "# PREDICTING TEAM RECORD (SEASON SIMULATION)"
   ]
  },
  {
   "cell_type": "code",
   "execution_count": null,
   "metadata": {},
   "outputs": [],
   "source": [
    "# Function to simulate a season for a selected team\n",
    "def simulate_season(team_id, df_teams, model):\n",
    "    # Filter teams for the current season\n",
    "    teams = df_teams[df_teams['season_code'] == 'E2024']['team_id'].unique()\n",
    "    \n",
    "    # Ensure the selected team is valid\n",
    "    if team_id not in teams:\n",
    "        raise ValueError(f\"Team ID {team_id} not found in the current season!\")\n",
    "    \n",
    "    # Initialize record\n",
    "    wins = 0\n",
    "    losses = 0\n",
    "    results = []  # Store detailed game results\n",
    "\n",
    "    # Get stats for the selected team\n",
    "    team_stats = df_teams[df_teams['team_id'] == team_id].iloc[0]\n",
    "\n",
    "    # Simulate games against all other teams\n",
    "    for opponent_id in teams:\n",
    "        if opponent_id == team_id:\n",
    "            continue  # Skip games against itself\n",
    "        \n",
    "        # Get stats for the opponent team\n",
    "        opponent_stats = df_teams[df_teams['team_id'] == opponent_id].iloc[0]\n",
    "\n",
    "        # Simulate game 1: selected team as local (team_a), opponent as away (team_b)\n",
    "        input_data_local = pd.DataFrame([{\n",
    "            'defensive_rebounds_a': team_stats['defensive_rebounds_per_game'],\n",
    "            'offensive_rebounds_a': team_stats['offensive_rebounds_per_game'],\n",
    "            'assists_a': team_stats['assists_per_game'],\n",
    "            'three_points_made_a': team_stats['three_points_made_per_game'],\n",
    "            'turnovers_a': team_stats['turnovers_per_game'],\n",
    "            'blocks_favour_a': team_stats.get('blocks_favour_per_game', 0),\n",
    "            'steals_a': team_stats.get('steals_per_game', 0),\n",
    "            'defensive_rebounds_b': opponent_stats['defensive_rebounds_per_game'],\n",
    "            'offensive_rebounds_b': opponent_stats['offensive_rebounds_per_game'],\n",
    "            'assists_b': opponent_stats['assists_per_game'],\n",
    "            'three_points_made_b': opponent_stats['three_points_made_per_game'],\n",
    "            'turnovers_b': opponent_stats['turnovers_per_game'],\n",
    "            'blocks_favour_b': opponent_stats.get('blocks_favour_per_game', 0),\n",
    "            'steals_b': opponent_stats.get('steals_per_game', 0),\n",
    "        }])\n",
    "\n",
    "        # Predict scores\n",
    "        predicted_scores_local = model.predict(input_data_local)\n",
    "        points_a_local = predicted_scores_local[0][0]\n",
    "        points_b_local = predicted_scores_local[0][1]\n",
    "\n",
    "        # Determine the result\n",
    "        if points_a_local > points_b_local:\n",
    "            wins += 1\n",
    "            results.append({'team_a': team_id, 'team_b': opponent_id, 'points_a': points_a_local, 'points_b': points_b_local, 'winner': team_id})\n",
    "        else:\n",
    "            losses += 1\n",
    "            results.append({'team_a': team_id, 'team_b': opponent_id, 'points_a': points_a_local, 'points_b': points_b_local, 'winner': opponent_id})\n",
    "\n",
    "        # Simulate game 2: selected team as away (team_b), opponent as local (team_a)\n",
    "        input_data_away = pd.DataFrame([{\n",
    "            'defensive_rebounds_a': opponent_stats['defensive_rebounds_per_game'],\n",
    "            'offensive_rebounds_a': opponent_stats['offensive_rebounds_per_game'],\n",
    "            'assists_a': opponent_stats['assists_per_game'],\n",
    "            'three_points_made_a': opponent_stats['three_points_made_per_game'],\n",
    "            'turnovers_a': opponent_stats['turnovers_per_game'],\n",
    "            'blocks_favour_a': opponent_stats.get('blocks_favour_per_game', 0),\n",
    "            'steals_a': opponent_stats.get('steals_per_game', 0),\n",
    "            'defensive_rebounds_b': team_stats['defensive_rebounds_per_game'],\n",
    "            'offensive_rebounds_b': team_stats['offensive_rebounds_per_game'],\n",
    "            'assists_b': team_stats['assists_per_game'],\n",
    "            'three_points_made_b': team_stats['three_points_made_per_game'],\n",
    "            'turnovers_b': team_stats['turnovers_per_game'],\n",
    "            'blocks_favour_b': team_stats.get('blocks_favour_per_game', 0),\n",
    "            'steals_b': team_stats.get('steals_per_game', 0),\n",
    "        }])\n",
    "\n",
    "        # Predict scores\n",
    "        predicted_scores_away = model.predict(input_data_away)\n",
    "        points_a_away = predicted_scores_away[0][0]\n",
    "        points_b_away = predicted_scores_away[0][1]\n",
    "\n",
    "        # Determine the result\n",
    "        if points_b_away > points_a_away:\n",
    "            wins += 1\n",
    "            results.append({'team_a': opponent_id, 'team_b': team_id, 'points_a': points_a_away, 'points_b': points_b_away, 'winner': team_id})\n",
    "        else:\n",
    "            losses += 1\n",
    "            results.append({'team_a': opponent_id, 'team_b': team_id, 'points_a': points_a_away, 'points_b': points_b_away, 'winner': opponent_id})\n",
    "\n",
    "    # Return the season record and detailed results\n",
    "    return {'team_id': team_id, 'wins': wins, 'losses': losses, 'results': results}\n",
    "\n",
    "# Example usage\n",
    "team_to_simulate = 'BAR'\n",
    "season_results = simulate_season(team_to_simulate, df_teams, linear_regressor)\n",
    "\n",
    "# Print results\n",
    "print(f\"Simulated Season Record for {team_to_simulate}: {season_results['wins']} Wins, {season_results['losses']} Losses\")\n"
   ]
  },
  {
   "cell_type": "markdown",
   "metadata": {},
   "source": [
    "# GLOBAL EXPLAINABILITY OF LINEAR REGRESSOR ON POINTS SCORED"
   ]
  },
  {
   "cell_type": "code",
   "execution_count": null,
   "metadata": {},
   "outputs": [],
   "source": [
    "import shap\n",
    "import numpy as np\n",
    "\n",
    "# SHAP Explainer for MultiOutputRegressor\n",
    "# SHAP doesn't natively support MultiOutputRegressor, so we explain each target separately.\n",
    "explainer_points_a = shap.Explainer(linear_regressor.estimators_[0], X_train)\n",
    "explainer_points_b = shap.Explainer(linear_regressor.estimators_[1], X_train)\n",
    "\n",
    "# Compute SHAP values for each target\n",
    "shap_values_points_a = explainer_points_a(X_test)\n",
    "shap_values_points_b = explainer_points_b(X_test)\n",
    "\n",
    "# Print the shape of SHAP values\n",
    "print(f\"SHAP values shape for points_a: {np.array(shap_values_points_a.values).shape}\")\n",
    "print(f\"SHAP values shape for points_b: {np.array(shap_values_points_b.values).shape}\")"
   ]
  },
  {
   "cell_type": "code",
   "execution_count": null,
   "metadata": {},
   "outputs": [],
   "source": [
    "\n",
    "# Summary plot for points_a\n",
    "shap.summary_plot(shap_values_points_a, X_test, show=False)\n",
    "\n"
   ]
  },
  {
   "cell_type": "code",
   "execution_count": null,
   "metadata": {},
   "outputs": [],
   "source": [
    "shap.plots.bar(shap_values_points_a)"
   ]
  },
  {
   "cell_type": "code",
   "execution_count": null,
   "metadata": {},
   "outputs": [],
   "source": [
    "\n",
    "# Summary plot for points_b\n",
    "shap.summary_plot(shap_values_points_b, X_test, show=False)\n",
    "plt.title(\"SHAP Summary for Points B\")\n",
    "plt.show()"
   ]
  },
  {
   "cell_type": "code",
   "execution_count": null,
   "metadata": {},
   "outputs": [],
   "source": [
    "shap.plots.bar(shap_values_points_b)"
   ]
  },
  {
   "cell_type": "code",
   "execution_count": null,
   "metadata": {},
   "outputs": [],
   "source": [
    "# SHAP scatter plot for 'defensive_rebounds_a' (target: points_a)\n",
    "shap.plots.scatter(shap_values_points_a[:, 'defensive_rebounds_a'], color=shap_values_points_a[:, 'three_points_made_b'])"
   ]
  },
  {
   "cell_type": "markdown",
   "metadata": {},
   "source": [
    "# LOCAL EXPLAINABILITY"
   ]
  },
  {
   "cell_type": "code",
   "execution_count": null,
   "metadata": {},
   "outputs": [],
   "source": [
    "# Get the first sample of X_test (the first game)\n",
    "sample_X = X_test.iloc[-1:]  # First row, as we want to explain the first prediction\n",
    "\n",
    "# SHAP Explainer for points_a (target)\n",
    "shap_values_points_a_sample = explainer_points_a(sample_X)\n",
    "\n",
    "# SHAP Explainer for points_b (target)\n",
    "shap_values_points_b_sample = explainer_points_b(sample_X)\n",
    "\n",
    "# Print the shape of SHAP values for the sample\n",
    "print(f\"SHAP values shape for points_a: {np.array(shap_values_points_a_sample.values).shape}\")\n",
    "print(f\"SHAP values shape for points_b: {np.array(shap_values_points_b_sample.values).shape}\")\n"
   ]
  },
  {
   "cell_type": "code",
   "execution_count": null,
   "metadata": {},
   "outputs": [],
   "source": [
    "# Waterfall plot for points_a (target)\n",
    "shap.plots.waterfall(shap_values_points_a_sample[0]) "
   ]
  },
  {
   "cell_type": "code",
   "execution_count": null,
   "metadata": {},
   "outputs": [],
   "source": [
    "# Decision plot for points_a (target)\n",
    "shap.decision_plot(explainer_points_a.expected_value, shap_values_points_a_sample.values[0], feature_names=list(X_test.columns), show=True)"
   ]
  },
  {
   "cell_type": "code",
   "execution_count": null,
   "metadata": {},
   "outputs": [],
   "source": [
    "# Waterfall plot for points_b (target)\n",
    "shap.plots.waterfall(shap_values_points_b_sample[0])"
   ]
  },
  {
   "cell_type": "code",
   "execution_count": null,
   "metadata": {},
   "outputs": [],
   "source": [
    "# Decision plot for points_b (target)\n",
    "shap.decision_plot(explainer_points_b.expected_value, shap_values_points_b_sample.values[0], feature_names=list(X_test.columns), show=True)"
   ]
  },
  {
   "cell_type": "markdown",
   "metadata": {},
   "source": [
    "# GLOBAL EXPLAINABILITY SIMPLE LOGISTIC MODEL"
   ]
  },
  {
   "cell_type": "code",
   "execution_count": null,
   "metadata": {},
   "outputs": [],
   "source": [
    "# SHAP Explainer for Logistic Regression model\n",
    "explainer = shap.Explainer(logistic_model, X_train_all)\n",
    "shap_values = explainer(X_test_all)\n",
    "\n",
    "# Print the shape of SHAP values\n",
    "print(f\"SHAP values shape: {np.array(shap_values.values).shape}\")\n"
   ]
  },
  {
   "cell_type": "code",
   "execution_count": null,
   "metadata": {},
   "outputs": [],
   "source": [
    "# Get the probabilities for class 1 (team A wins)\n",
    "predicted_probabilities = logistic_model.predict_proba(X_test_all)[:, 1]\n",
    "\n",
    "# Compute the average prediction\n",
    "average_prediction = np.mean(predicted_probabilities)\n",
    "\n",
    "print(f\"Average prediction (probability of Team A winning): {average_prediction:.4f}\")\n"
   ]
  },
  {
   "cell_type": "code",
   "execution_count": null,
   "metadata": {},
   "outputs": [],
   "source": [
    "shap.summary_plot(shap_values, X_test_all, show=False)\n"
   ]
  },
  {
   "cell_type": "code",
   "execution_count": null,
   "metadata": {},
   "outputs": [],
   "source": [
    "shap.plots.bar(shap_values)"
   ]
  },
  {
   "cell_type": "code",
   "execution_count": null,
   "metadata": {},
   "outputs": [],
   "source": [
    "shap.plots.scatter(shap_values[:, 'defensive_rebounds_a'], color=shap_values[:, 'three_points_made_b'])"
   ]
  },
  {
   "cell_type": "markdown",
   "metadata": {},
   "source": [
    "# LOCAL"
   ]
  },
  {
   "cell_type": "code",
   "execution_count": null,
   "metadata": {},
   "outputs": [],
   "source": [
    "# Select the last sample from X_test\n",
    "sample_X = X_test.iloc[-1:]\n",
    "\n",
    "# Compute SHAP values for the first sample\n",
    "shap_values_sample = explainer(sample_X)\n",
    "\n",
    "# Waterfall plot for the first sample\n",
    "shap.plots.waterfall(shap_values_sample[0])\n"
   ]
  },
  {
   "cell_type": "code",
   "execution_count": null,
   "metadata": {},
   "outputs": [],
   "source": [
    "shap.decision_plot(explainer.expected_value, shap_values.values[0], feature_names=list(X_test_all.columns), show=True)"
   ]
  },
  {
   "cell_type": "markdown",
   "metadata": {},
   "source": [
    "# SAVING MODELS PICKLE"
   ]
  },
  {
   "cell_type": "code",
   "execution_count": null,
   "metadata": {},
   "outputs": [],
   "source": [
    "import pickle\n",
    "\n",
    "# Save Logistic Regression model\n",
    "with open('logistic_model.pkl', 'wb') as f:\n",
    "    pickle.dump(logistic_model, f)\n",
    "\n",
    "# Save Random Forest model\n",
    "with open('rf_model.pkl', 'wb') as f:\n",
    "    pickle.dump(rf_model, f)\n"
   ]
  },
  {
   "cell_type": "code",
   "execution_count": null,
   "metadata": {},
   "outputs": [],
   "source": [
    "\n",
    "with open('linear_regressor_points.pkl', 'wb') as f:\n",
    "    pickle.dump(linear_regressor, f)\n",
    "\n",
    "\n",
    "with open('gradient_boosting_points.pkl', 'wb') as f:\n",
    "    pickle.dump(gb_regressor, f)\n",
    "\n",
    "\n",
    "with open('svr_regressor_points.pkl', 'wb') as f:\n",
    "    pickle.dump(svr_regressor, f)\n",
    "\n"
   ]
  }
 ],
 "metadata": {
  "colab": {
   "collapsed_sections": [
    "dPNlI2NVuqwc"
   ],
   "provenance": []
  },
  "kernelspec": {
   "display_name": "base",
   "language": "python",
   "name": "python3"
  },
  "language_info": {
   "codemirror_mode": {
    "name": "ipython",
    "version": 3
   },
   "file_extension": ".py",
   "mimetype": "text/x-python",
   "name": "python",
   "nbconvert_exporter": "python",
   "pygments_lexer": "ipython3",
   "version": "3.9.12"
  }
 },
 "nbformat": 4,
 "nbformat_minor": 0
}
